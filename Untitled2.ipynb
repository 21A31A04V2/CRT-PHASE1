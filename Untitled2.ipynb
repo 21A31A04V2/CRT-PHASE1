{
 "cells": [
  {
   "cell_type": "code",
   "execution_count": 3,
   "id": "52716547-5d06-4c05-b947-ec285afccbe8",
   "metadata": {
    "jupyter": {
     "source_hidden": true
    }
   },
   "outputs": [
    {
     "name": "stdin",
     "output_type": "stream",
     "text": [
      " 4\n",
      " 5 7 3 2 8 7\n"
     ]
    },
    {
     "name": "stdout",
     "output_type": "stream",
     "text": [
      "9 "
     ]
    }
   ],
   "source": [
    "l=list(map(int,input().split()))\n",
    "a=list(map(int,input().split()))\n",
    "n=len(l)\n",
    "for i in range(n):\n",
    "    print(l[i]+a[n-i-1],end=' ')\n",
    "    "
   ]
  },
  {
   "cell_type": "code",
   "execution_count": 8,
   "id": "3e109618-eaf4-4967-92b2-fb3a264c4407",
   "metadata": {},
   "outputs": [
    {
     "ename": "IndentationError",
     "evalue": "expected an indented block after 'for' statement on line 3 (3368695743.py, line 4)",
     "output_type": "error",
     "traceback": [
      "\u001b[1;36m  Cell \u001b[1;32mIn[8], line 4\u001b[1;36m\u001b[0m\n\u001b[1;33m    if i not in new list:\u001b[0m\n\u001b[1;37m    ^\u001b[0m\n\u001b[1;31mIndentationError\u001b[0m\u001b[1;31m:\u001b[0m expected an indented block after 'for' statement on line 3\n"
     ]
    }
   ],
   "source": [
    "a=list(map(int,input().split()))\n",
    "new_list=[]\n",
    "for i in a:\n",
    "if i not in new list:\n",
    "new_list.append(i)\n",
    "print(new_list) "
   ]
  },
  {
   "cell_type": "code",
   "execution_count": null,
   "id": "63f51ed4-1a53-4a46-b826-7775f9877fd5",
   "metadata": {},
   "outputs": [],
   "source": [
    "a=list(map(int,input()."
   ]
  },
  {
   "cell_type": "code",
   "execution_count": null,
   "id": "a31cadce-a4a8-4e56-8560-e06a46d76d32",
   "metadata": {},
   "outputs": [],
   "source": []
  },
  {
   "cell_type": "code",
   "execution_count": null,
   "id": "f7fdf1d3-0b9b-4e9b-be9c-16ba3a81f2e1",
   "metadata": {},
   "outputs": [],
   "source": []
  }
 ],
 "metadata": {
  "kernelspec": {
   "display_name": "Python 3 (ipykernel)",
   "language": "python",
   "name": "python3"
  },
  "language_info": {
   "codemirror_mode": {
    "name": "ipython",
    "version": 3
   },
   "file_extension": ".py",
   "mimetype": "text/x-python",
   "name": "python",
   "nbconvert_exporter": "python",
   "pygments_lexer": "ipython3",
   "version": "3.11.7"
  }
 },
 "nbformat": 4,
 "nbformat_minor": 5
}
