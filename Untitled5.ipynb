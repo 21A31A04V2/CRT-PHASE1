{
 "cells": [
  {
   "cell_type": "code",
   "execution_count": 22,
   "id": "139eeb16-c0a7-44fd-97a8-1d6718c881fb",
   "metadata": {},
   "outputs": [
    {
     "ename": "IndentationError",
     "evalue": "unindent does not match any outer indentation level (<tokenize>, line 4)",
     "output_type": "error",
     "traceback": [
      "\u001b[1;36m  File \u001b[1;32m<tokenize>:4\u001b[1;36m\u001b[0m\n\u001b[1;33m    if(x==1):\u001b[0m\n\u001b[1;37m    ^\u001b[0m\n\u001b[1;31mIndentationError\u001b[0m\u001b[1;31m:\u001b[0m unindent does not match any outer indentation level\n"
     ]
    }
   ],
   "source": [
    "def fun(x):\n",
    "    if(x==0):\n",
    "        return 1\n",
    "      if(x==1):\n",
    "            return 2\n",
    "        return fun(x-1)+fun(x-2)\n",
    "print(fun(5))"
   ]
  },
  {
   "cell_type": "code",
   "execution_count": 23,
   "id": "eb52d662-e192-4c06-8b94-93407f9023e9",
   "metadata": {},
   "outputs": [
    {
     "name": "stdout",
     "output_type": "stream",
     "text": [
      "5 7 12 19 31 50 81 131 212 343 "
     ]
    }
   ],
   "source": [
    "def asd(x):\n",
    "    if(x==0):\n",
    "        return 5\n",
    "    if(x==1):\n",
    "        return 7\n",
    "    return asd(x-1)+asd(x-2)\n",
    "for i in range(0,10):\n",
    "    print(asd(i),end=' ')"
   ]
  },
  {
   "cell_type": "code",
   "execution_count": 24,
   "id": "4100c2b3-308d-4c0a-a26d-8036499676b6",
   "metadata": {},
   "outputs": [
    {
     "ename": "SyntaxError",
     "evalue": "incomplete input (1876119904.py, line 3)",
     "output_type": "error",
     "traceback": [
      "\u001b[1;36m  Cell \u001b[1;32mIn[24], line 3\u001b[1;36m\u001b[0m\n\u001b[1;33m    print(x\u001b[0m\n\u001b[1;37m           ^\u001b[0m\n\u001b[1;31mSyntaxError\u001b[0m\u001b[1;31m:\u001b[0m incomplete input\n"
     ]
    }
   ],
   "source": [
    "def fun(x):\n",
    "    if(x==1):\n",
    "        print(x"
   ]
  },
  {
   "cell_type": "code",
   "execution_count": null,
   "id": "54d03182-71db-4bb8-a278-92eeb9be7855",
   "metadata": {},
   "outputs": [],
   "source": []
  }
 ],
 "metadata": {
  "kernelspec": {
   "display_name": "Python 3 (ipykernel)",
   "language": "python",
   "name": "python3"
  },
  "language_info": {
   "codemirror_mode": {
    "name": "ipython",
    "version": 3
   },
   "file_extension": ".py",
   "mimetype": "text/x-python",
   "name": "python",
   "nbconvert_exporter": "python",
   "pygments_lexer": "ipython3",
   "version": "3.11.7"
  }
 },
 "nbformat": 4,
 "nbformat_minor": 5
}
