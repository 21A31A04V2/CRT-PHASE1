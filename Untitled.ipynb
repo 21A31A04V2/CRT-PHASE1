{
 "cells": [
  {
   "cell_type": "code",
   "execution_count": 6,
   "id": "b1708b97-368c-41f0-a9ad-2c625b7c9e45",
   "metadata": {},
   "outputs": [
    {
     "name": "stdout",
     "output_type": "stream",
     "text": [
      "1\n",
      "22\n",
      "333\n",
      "4444\n"
     ]
    }
   ],
   "source": [
    "a=0\n",
    "for i in range(4):\n",
    "   a=(10**i)+a\n",
    "   print(a * (i+1))\n"
   ]
  },
  {
   "cell_type": "code",
   "execution_count": 27,
   "id": "8c13cd7d-7248-4d6a-8b5e-368da0373265",
   "metadata": {},
   "outputs": [
    {
     "name": "stdout",
     "output_type": "stream",
     "text": [
      "  *  *  *  * \n",
      "   *  *  * \n",
      "    *  * \n",
      "     * \n"
     ]
    }
   ],
   "source": [
    "for i in range(4):\n",
    "  print( \" \"*(i+1)+ \" * \" *(4-i))"
   ]
  },
  {
   "cell_type": "code",
   "execution_count": 31,
   "id": "8d335174-41f2-458a-acdb-d2026181386e",
   "metadata": {},
   "outputs": [
    {
     "ename": "NameError",
     "evalue": "name 'n' is not defined",
     "output_type": "error",
     "traceback": [
      "\u001b[1;31m---------------------------------------------------------------------------\u001b[0m",
      "\u001b[1;31mNameError\u001b[0m                                 Traceback (most recent call last)",
      "Cell \u001b[1;32mIn[31], line 5\u001b[0m\n\u001b[0;32m      3\u001b[0m j\u001b[38;5;241m=\u001b[39m\u001b[38;5;241m4\u001b[39m\n\u001b[0;32m      4\u001b[0m \u001b[38;5;28;01mwhile\u001b[39;00m(j\u001b[38;5;241m>\u001b[39m\u001b[38;5;241m0\u001b[39m):\n\u001b[1;32m----> 5\u001b[0m     \u001b[38;5;28;01mif\u001b[39;00m(i\u001b[38;5;241m==\u001b[39m\u001b[38;5;241m1\u001b[39m \u001b[38;5;129;01mor\u001b[39;00m j\u001b[38;5;241m==\u001b[39m\u001b[38;5;241m1\u001b[39m \u001b[38;5;129;01mor\u001b[39;00m i\u001b[38;5;241m==\u001b[39mn \u001b[38;5;129;01mor\u001b[39;00m j\u001b[38;5;241m==\u001b[39mn):\n\u001b[0;32m      6\u001b[0m         \u001b[38;5;28mprint\u001b[39m(\u001b[38;5;124m\"\u001b[39m\u001b[38;5;124m* \u001b[39m\u001b[38;5;124m\"\u001b[39m,end\u001b[38;5;241m=\u001b[39m\u001b[38;5;124m'\u001b[39m\u001b[38;5;124m \u001b[39m\u001b[38;5;124m'\u001b[39m)\n\u001b[0;32m      7\u001b[0m     \u001b[38;5;28;01melse\u001b[39;00m:\n",
      "\u001b[1;31mNameError\u001b[0m: name 'n' is not defined"
     ]
    }
   ],
   "source": [
    "a=4\n",
    "while (i>0):\n",
    "    j=4\n",
    "    while(j>0):\n",
    "        if(i==1 or j==1 or i==n or j==n):\n",
    "            print(\"* \",end=' ')\n",
    "        else:\n",
    "            print(\"0 \",end=' ')\n",
    "            j=j-1\n",
    "            print()\n",
    "            "
   ]
  },
  {
   "cell_type": "code",
   "execution_count": null,
   "id": "ab2454db-4c0a-43cf-a418-1d713cd8ce66",
   "metadata": {},
   "outputs": [],
   "source": []
  },
  {
   "cell_type": "code",
   "execution_count": null,
   "id": "870a9c70-dfa6-4ca3-a584-e067653f984e",
   "metadata": {},
   "outputs": [],
   "source": []
  },
  {
   "cell_type": "code",
   "execution_count": null,
   "id": "7211535b-298e-4de4-8593-100b8b780975",
   "metadata": {},
   "outputs": [],
   "source": []
  }
 ],
 "metadata": {
  "kernelspec": {
   "display_name": "Python 3 (ipykernel)",
   "language": "python",
   "name": "python3"
  },
  "language_info": {
   "codemirror_mode": {
    "name": "ipython",
    "version": 3
   },
   "file_extension": ".py",
   "mimetype": "text/x-python",
   "name": "python",
   "nbconvert_exporter": "python",
   "pygments_lexer": "ipython3",
   "version": "3.11.7"
  }
 },
 "nbformat": 4,
 "nbformat_minor": 5
}
