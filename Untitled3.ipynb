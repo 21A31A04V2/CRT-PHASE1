{
 "cells": [
  {
   "cell_type": "code",
   "execution_count": 1,
   "id": "420abfbc-514a-41df-bffb-1b30c20acede",
   "metadata": {},
   "outputs": [
    {
     "name": "stdin",
     "output_type": "stream",
     "text": [
      " aaabbaccca\n"
     ]
    },
    {
     "name": "stdout",
     "output_type": "stream",
     "text": [
      " a3b1\n",
      " a3b1b2a1\n",
      " a3b1b2a1a1c1\n",
      " a3b1b2a1a1c1c3a1\n"
     ]
    }
   ],
   "source": [
    "a=input()\n",
    "c=1\n",
    "b=' '\n",
    "for i in range(len(a)-1):\n",
    "    if(a[i]==a[i+1]):\n",
    "        c=c+1\n",
    "    else:\n",
    "        b=b+a[i]+str(c)\n",
    "        c=1\n",
    "        b=b+a[i+1] +str(c)\n",
    "        print(b)"
   ]
  },
  {
   "cell_type": "code",
   "execution_count": null,
   "id": "ef62e320-b425-4ce3-a57b-543401d22ea6",
   "metadata": {},
   "outputs": [],
   "source": [
    "a=input()\n",
    "c=1\n",
    "b=' '\n",
    "for i in range(len(a)-1):"
   ]
  },
  {
   "cell_type": "code",
   "execution_count": null,
   "id": "fc6562e8-5640-464b-8e31-8ad7974f8296",
   "metadata": {},
   "outputs": [],
   "source": []
  },
  {
   "cell_type": "code",
   "execution_count": null,
   "id": "f30c2238-e57b-4da2-a966-145fb99b4972",
   "metadata": {},
   "outputs": [],
   "source": []
  },
  {
   "cell_type": "code",
   "execution_count": null,
   "id": "5764cc94-2c04-4c27-98eb-c2cd60d19d9a",
   "metadata": {},
   "outputs": [],
   "source": []
  }
 ],
 "metadata": {
  "kernelspec": {
   "display_name": "Python 3 (ipykernel)",
   "language": "python",
   "name": "python3"
  },
  "language_info": {
   "codemirror_mode": {
    "name": "ipython",
    "version": 3
   },
   "file_extension": ".py",
   "mimetype": "text/x-python",
   "name": "python",
   "nbconvert_exporter": "python",
   "pygments_lexer": "ipython3",
   "version": "3.11.7"
  }
 },
 "nbformat": 4,
 "nbformat_minor": 5
}
