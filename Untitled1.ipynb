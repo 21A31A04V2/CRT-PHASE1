{
 "cells": [
  {
   "cell_type": "code",
   "execution_count": null,
   "id": "29ae0d62-bcb1-4afc-90bd-f2d9a2036041",
   "metadata": {},
   "outputs": [],
   "source": []
  },
  {
   "cell_type": "code",
   "execution_count": 7,
   "id": "e811b7f4-6710-4092-b6e7-e7691fe99c64",
   "metadata": {},
   "outputs": [
    {
     "name": "stdin",
     "output_type": "stream",
     "text": [
      " 14 7 13 17 23 21\n"
     ]
    },
    {
     "name": "stdout",
     "output_type": "stream",
     "text": [
      "4\n"
     ]
    }
   ],
   "source": [
    "l=list(map(int,input().split()))\n",
    "s=0\n",
    "for j in range(len(l)):\n",
    "    c=0\n",
    "    for i in range(2,l[j]):\n",
    "        if l[j]%i==0:\n",
    "            c+=1\n",
    "    if c==0:\n",
    "        s+=1\n",
    "print(s)"
   ]
  },
  {
   "cell_type": "code",
   "execution_count": null,
   "id": "e7ad02f1-5713-475d-8078-0ab7f9dbdfd1",
   "metadata": {},
   "outputs": [],
   "source": [
    "def isp(n):\n",
    "for i in range(2,n):\n",
    "    if n%i==0:\n",
    "        c+=1\n",
    "    if c==0:\n",
    "     return n\n",
    "    else:\n",
    "        return isp(n+1)"
   ]
  }
 ],
 "metadata": {
  "kernelspec": {
   "display_name": "Python 3 (ipykernel)",
   "language": "python",
   "name": "python3"
  },
  "language_info": {
   "codemirror_mode": {
    "name": "ipython",
    "version": 3
   },
   "file_extension": ".py",
   "mimetype": "text/x-python",
   "name": "python",
   "nbconvert_exporter": "python",
   "pygments_lexer": "ipython3",
   "version": "3.11.7"
  }
 },
 "nbformat": 4,
 "nbformat_minor": 5
}
