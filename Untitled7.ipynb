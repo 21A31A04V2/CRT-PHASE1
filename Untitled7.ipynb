{
 "cells": [
  {
   "cell_type": "code",
   "execution_count": 15,
   "id": "7d60c25f-8f3e-440e-8ee2-cd9d0ac6b7af",
   "metadata": {},
   "outputs": [
    {
     "name": "stdout",
     "output_type": "stream",
     "text": [
      "hello 20 50\n"
     ]
    }
   ],
   "source": [
    "class A:\n",
    "    def __init__(self):\n",
    "       self.x=20\n",
    "    def func(self):\n",
    "        print(\"hi\")\n",
    "class B(A):\n",
    "    def __init__(self):\n",
    "        super().__init__()\n",
    "        self.y=50\n",
    "    def func(self):\n",
    "        print(\"hello\",self.x,self.y)\n",
    "b=B()\n",
    "b.func()"
   ]
  },
  {
   "cell_type": "code",
   "execution_count": 22,
   "id": "97f4d3d8-f0fe-4218-afe9-ab5a35010bcb",
   "metadata": {},
   "outputs": [
    {
     "ename": "TypeError",
     "evalue": "A() takes no arguments",
     "output_type": "error",
     "traceback": [
      "\u001b[1;31m---------------------------------------------------------------------------\u001b[0m",
      "\u001b[1;31mTypeError\u001b[0m                                 Traceback (most recent call last)",
      "Cell \u001b[1;32mIn[22], line 9\u001b[0m\n\u001b[0;32m      7\u001b[0m         \u001b[38;5;28;01melse\u001b[39;00m:\n\u001b[0;32m      8\u001b[0m             \u001b[38;5;28mprint\u001b[39m(\u001b[38;5;124m\"\u001b[39m\u001b[38;5;124modd\u001b[39m\u001b[38;5;124m\"\u001b[39m)\n\u001b[1;32m----> 9\u001b[0m a\u001b[38;5;241m=\u001b[39mA(\u001b[38;5;241m10\u001b[39m)\n\u001b[0;32m     10\u001b[0m a\u001b[38;5;241m.\u001b[39mevenOrodd\n",
      "\u001b[1;31mTypeError\u001b[0m: A() takes no arguments"
     ]
    }
   ],
   "source": [
    "class A:\n",
    "    def __int__(self,x):\n",
    "        self.x=x\n",
    "    def evenOrodd(self):\n",
    "        if(self.x%2==0):\n",
    "               print(\"even\")\n",
    "        else:\n",
    "            print(\"odd\")\n",
    "a=A(10)\n",
    "a.evenOrodd"
   ]
  },
  {
   "cell_type": "code",
   "execution_count": null,
   "id": "b92ba227-6995-4a7c-b40a-e707bae0bed5",
   "metadata": {},
   "outputs": [],
   "source": []
  },
  {
   "cell_type": "code",
   "execution_count": null,
   "id": "da0dd04e-bdee-47f2-9353-064fd5d9a9b7",
   "metadata": {},
   "outputs": [],
   "source": [
    "class A:\n",
    "    def __init(self,x):\n",
    "        self.x=x\n",
    "    def fact(self):\n",
    "        if(self.x<1):\n",
    "        return fact(self.x)*(self.x-1)\n",
    "            "
   ]
  }
 ],
 "metadata": {
  "kernelspec": {
   "display_name": "Python 3 (ipykernel)",
   "language": "python",
   "name": "python3"
  },
  "language_info": {
   "codemirror_mode": {
    "name": "ipython",
    "version": 3
   },
   "file_extension": ".py",
   "mimetype": "text/x-python",
   "name": "python",
   "nbconvert_exporter": "python",
   "pygments_lexer": "ipython3",
   "version": "3.11.7"
  }
 },
 "nbformat": 4,
 "nbformat_minor": 5
}
